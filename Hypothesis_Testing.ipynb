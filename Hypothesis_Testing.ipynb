{
 "cells": [
  {
   "cell_type": "code",
   "execution_count": 30,
   "metadata": {},
   "outputs": [],
   "source": [
    "import pandas as pd \n",
    "import numpy as np\n",
    "from matplotlib import pyplot as plt \n",
    "import matplotlib.pyplot as plts\n",
    "import seaborn as sns\n",
    "from scipy.stats import norm\n",
    "# from scipy import stats"
   ]
  },
  {
   "cell_type": "code",
   "execution_count": 31,
   "metadata": {},
   "outputs": [
    {
     "data": {
      "text/html": [
       "<div>\n",
       "<style scoped>\n",
       "    .dataframe tbody tr th:only-of-type {\n",
       "        vertical-align: middle;\n",
       "    }\n",
       "\n",
       "    .dataframe tbody tr th {\n",
       "        vertical-align: top;\n",
       "    }\n",
       "\n",
       "    .dataframe thead th {\n",
       "        text-align: right;\n",
       "    }\n",
       "</style>\n",
       "<table border=\"1\" class=\"dataframe\">\n",
       "  <thead>\n",
       "    <tr style=\"text-align: right;\">\n",
       "      <th></th>\n",
       "      <th>house_id</th>\n",
       "      <th>price_increase_pct</th>\n",
       "    </tr>\n",
       "  </thead>\n",
       "  <tbody>\n",
       "    <tr>\n",
       "      <th>0</th>\n",
       "      <td>NJ001</td>\n",
       "      <td>12.7</td>\n",
       "    </tr>\n",
       "    <tr>\n",
       "      <th>1</th>\n",
       "      <td>NJ002</td>\n",
       "      <td>11.3</td>\n",
       "    </tr>\n",
       "    <tr>\n",
       "      <th>2</th>\n",
       "      <td>NJ003</td>\n",
       "      <td>11.9</td>\n",
       "    </tr>\n",
       "    <tr>\n",
       "      <th>3</th>\n",
       "      <td>NJ004</td>\n",
       "      <td>13.2</td>\n",
       "    </tr>\n",
       "    <tr>\n",
       "      <th>4</th>\n",
       "      <td>NJ005</td>\n",
       "      <td>12.8</td>\n",
       "    </tr>\n",
       "  </tbody>\n",
       "</table>\n",
       "</div>"
      ],
      "text/plain": [
       "  house_id  price_increase_pct\n",
       "0    NJ001                12.7\n",
       "1    NJ002                11.3\n",
       "2    NJ003                11.9\n",
       "3    NJ004                13.2\n",
       "4    NJ005                12.8"
      ]
     },
     "execution_count": 31,
     "metadata": {},
     "output_type": "execute_result"
    }
   ],
   "source": [
    "df = pd.read_csv('C:./Data/house_price_increase.csv')\n",
    "df.head(5)"
   ]
  },
  {
   "cell_type": "code",
   "execution_count": 32,
   "metadata": {},
   "outputs": [
    {
     "data": {
      "text/plain": [
       "((100, 2), (100, 2))"
      ]
     },
     "execution_count": 32,
     "metadata": {},
     "output_type": "execute_result"
    }
   ],
   "source": [
    "df2 = df.copy()\n",
    "df2.shape,df.shape"
   ]
  },
  {
   "cell_type": "code",
   "execution_count": 33,
   "metadata": {},
   "outputs": [],
   "source": [
    "populationMean = 10  ### lets assume the population mean is 10\n",
    "populationStd = 4  ### lets assume the population standard deviation is 4\n",
    "sampleSize = 100  "
   ]
  },
  {
   "cell_type": "code",
   "execution_count": null,
   "metadata": {},
   "outputs": [],
   "source": [
    "##### Calculating the Null Hypithesis below with Z score"
   ]
  },
  {
   "cell_type": "code",
   "execution_count": 35,
   "metadata": {},
   "outputs": [
    {
     "name": "stdout",
     "output_type": "stream",
     "text": [
      "Reject Null Hypothesis\n"
     ]
    }
   ],
   "source": [
    "def calculate_z_score(df, population_mean, population_std, alpha):\n",
    "    sample_mean = df['price_increase_pct'].mean()   # sample mean\n",
    "    sample_size = df.shape[0]             ## sample size\n",
    "    standard_error = population_std / np.sqrt(sample_size)    ## standard error\n",
    "    z_score = (sample_mean - population_mean) / standard_error    ## z score\n",
    "    z_critical = norm.ppf(1 - alpha)                             ## z critical\n",
    "    \n",
    "    if z_score > z_critical:\n",
    "        return 'Reject Null Hypothesis'\n",
    "    else:\n",
    "        return 'Fail to reject Null Hypothesis'\n",
    "\n",
    "result = calculate_z_score(df2, populationMean, populationStd, alpha)\n",
    "print(result)"
   ]
  },
  {
   "cell_type": "code",
   "execution_count": 51,
   "metadata": {},
   "outputs": [],
   "source": [
    "##### Two Tail Test"
   ]
  },
  {
   "cell_type": "code",
   "execution_count": 50,
   "metadata": {},
   "outputs": [
    {
     "name": "stdout",
     "output_type": "stream",
     "text": [
      "Reject Null Hypothesis\n"
     ]
    }
   ],
   "source": [
    "def calculate_z_score(df, population_mean, population_std, alpha):\n",
    "    sample_mean = df['price_increase_pct'].mean()   # sample mean\n",
    "    sample_size = df.shape[0]             ## sample size\n",
    "    standard_error = population_std / np.sqrt(sample_size)    ## standard error\n",
    "    z_score2tail = (sample_mean - population_mean) / standard_error    ## z score\n",
    "    z_critical2tail = norm.ppf(1 - alpha/2)                             ## z critical\n",
    "    \n",
    "    if z_score2tail > z_critical2tail:\n",
    "        return 'Reject Null Hypothesis'\n",
    "    else:\n",
    "        return 'Fail to reject Null Hypothesis'\n",
    "\n",
    "result = calculate_z_score(df2, populationMean, populationStd, alpha)\n",
    "print(result)"
   ]
  },
  {
   "cell_type": "code",
   "execution_count": null,
   "metadata": {},
   "outputs": [],
   "source": []
  },
  {
   "cell_type": "code",
   "execution_count": 49,
   "metadata": {},
   "outputs": [],
   "source": [
    "# Calculate the P value"
   ]
  },
  {
   "cell_type": "code",
   "execution_count": 48,
   "metadata": {},
   "outputs": [
    {
     "name": "stdout",
     "output_type": "stream",
     "text": [
      "Reject Null Hypothesis\n",
      "P value: 0.006209665325776159, Alpha: 0.05\n"
     ]
    }
   ],
   "source": [
    "# Calculate the P value\n",
    "p_value = 1 - norm.cdf(z_score)\n",
    "\n",
    "# Compare the P value with alpha\n",
    "if p_value < alpha:\n",
    "    print('Reject Null Hypothesis')\n",
    "else:\n",
    "    print('Fail to reject Null Hypothesis')\n",
    "\n",
    "print(f\"P value: {p_value}, Alpha: {alpha}\")"
   ]
  },
  {
   "cell_type": "code",
   "execution_count": null,
   "metadata": {},
   "outputs": [],
   "source": []
  },
  {
   "cell_type": "code",
   "execution_count": 36,
   "metadata": {},
   "outputs": [],
   "source": [
    "##### Step by Step Calculation below"
   ]
  },
  {
   "cell_type": "code",
   "execution_count": 37,
   "metadata": {},
   "outputs": [
    {
     "data": {
      "text/plain": [
       "(np.float64(11.0), np.float64(1.0097504442167677))"
      ]
     },
     "execution_count": 37,
     "metadata": {},
     "output_type": "execute_result"
    }
   ],
   "source": [
    "sample_mean = df2.price_increase_pct.mean()\n",
    "sample_std = df2.price_increase_pct.std()\n",
    "sample_mean,sample_std"
   ]
  },
  {
   "cell_type": "code",
   "execution_count": 38,
   "metadata": {},
   "outputs": [
    {
     "data": {
      "text/plain": [
       "np.float64(0.4)"
      ]
     },
     "execution_count": 38,
     "metadata": {},
     "output_type": "execute_result"
    }
   ],
   "source": [
    "standard_error = populationStd/np.sqrt(df2.shape[0])  #### Standard Error = Population Std / sqrt(sample size)\n",
    "standard_error"
   ]
  },
  {
   "cell_type": "code",
   "execution_count": 39,
   "metadata": {},
   "outputs": [
    {
     "data": {
      "text/plain": [
       "np.float64(2.5)"
      ]
     },
     "execution_count": 39,
     "metadata": {},
     "output_type": "execute_result"
    }
   ],
   "source": [
    "z_score = (sample_mean - populationMean) / standard_error\n",
    "z_score"
   ]
  },
  {
   "cell_type": "code",
   "execution_count": 40,
   "metadata": {},
   "outputs": [
    {
     "data": {
      "text/plain": [
       "np.float64(1.6448536269514722)"
      ]
     },
     "execution_count": 40,
     "metadata": {},
     "output_type": "execute_result"
    }
   ],
   "source": [
    "alpha = 0.05 ### this means the significant level is 5%\n",
    "z_critical = norm.ppf(1-alpha)\n",
    "z_critical"
   ]
  },
  {
   "cell_type": "code",
   "execution_count": 41,
   "metadata": {},
   "outputs": [
    {
     "name": "stdout",
     "output_type": "stream",
     "text": [
      "Reject Null Hypothesis\n"
     ]
    }
   ],
   "source": [
    "if z_score > z_critical:\n",
    "    print('Reject Null Hypothesis')\n",
    "else:\n",
    "    print('Fail to reject Null Hypothesis')"
   ]
  },
  {
   "cell_type": "code",
   "execution_count": null,
   "metadata": {},
   "outputs": [],
   "source": []
  },
  {
   "cell_type": "code",
   "execution_count": 42,
   "metadata": {},
   "outputs": [],
   "source": [
    "##### Any Claim that can be tested is called Hypothesis Testing, Null Hypothesis is the the Baseline Claim, Alternative Hypothesis is the Claim that we are testing\n",
    "##### If the Null Hypothesis is True, then the Alternative Hypothesis is False and Vice Versa"
   ]
  },
  {
   "cell_type": "code",
   "execution_count": 43,
   "metadata": {},
   "outputs": [],
   "source": [
    "##### Steps for Hypothesis Testing\n",
    "# 1. Define the Null Hypothesis\n",
    "# 2. Define the Alternative Hypothesis\n",
    "#### Once Hypuotesis is defined, we need to test the Hypothesis and Finalize the Hypothesis with Z-Test or T-Test or Chi-Square Test or Anova Test\n",
    "### Once this is done we arrive at a conclusion"
   ]
  },
  {
   "cell_type": "code",
   "execution_count": 44,
   "metadata": {},
   "outputs": [],
   "source": [
    "#### Z test is used when the sample size is large and the population standard deviation is known  30 is a good sample size\n",
    "#### T test is used when the sample size is small and the population standard deviation is unknown\n",
    "#### Chi-Square Test is used when we are comparing the Categorical Variables"
   ]
  },
  {
   "cell_type": "code",
   "execution_count": 45,
   "metadata": {},
   "outputs": [],
   "source": [
    "#### We can also have one tailed test and two tailed test, in one tailed test we are only interested in one side of the distribution, in two tailed test we are interested in both sides of the distribution\n",
    "#### Example if we say Inflation is > 5% then we call is one tailed test and if its not 5% meanig it can be 6% or 4% then we call it two tailed test"
   ]
  },
  {
   "cell_type": "code",
   "execution_count": 46,
   "metadata": {},
   "outputs": [],
   "source": [
    "##### If Z score falls in rejection region then we reject the Null Hypothesis, if Z score falls in acceptance region then we accept the Null Hypothesis\n",
    "##### If Z score is greater than 1.96 or less than -1.96 then we reject the Null Hypothesis, if Z score is between -1.96 and 1.96 then we accept the Null Hypothesis"
   ]
  },
  {
   "cell_type": "code",
   "execution_count": null,
   "metadata": {},
   "outputs": [],
   "source": [
    "##### Type one and Type two errors\n",
    "# Type 1 error is when we reject the Null Hypothesis when it is True"
   ]
  },
  {
   "cell_type": "code",
   "execution_count": null,
   "metadata": {},
   "outputs": [],
   "source": [
    "##### Statistial Power 1- Type 2 error"
   ]
  },
  {
   "cell_type": "code",
   "execution_count": null,
   "metadata": {},
   "outputs": [],
   "source": [
    "##### Type 1 error is when we reject the Null Hypothesis when it is True\n",
    "##### Type 2 error is when we fail to reject the Null Hypothesis when it is False\n",
    "##### statistical power is the probability of rejecting the Null Hypothesis when it is False\n",
    "#### False Positive is Type 1 error and False Negative is Type 2 error\n",
    "#### Statistical Power is 1 - Type 2 error"
   ]
  },
  {
   "cell_type": "code",
   "execution_count": null,
   "metadata": {},
   "outputs": [],
   "source": []
  },
  {
   "cell_type": "code",
   "execution_count": null,
   "metadata": {},
   "outputs": [],
   "source": [
    "##### AB Testing is used to compare the two versions of the same product, we have control group and test group\n",
    "### This test is used to compare the two versions of the same product most times to check for imporvments \n"
   ]
  },
  {
   "cell_type": "code",
   "execution_count": null,
   "metadata": {},
   "outputs": [],
   "source": []
  },
  {
   "cell_type": "code",
   "execution_count": null,
   "metadata": {},
   "outputs": [],
   "source": []
  },
  {
   "cell_type": "code",
   "execution_count": null,
   "metadata": {},
   "outputs": [],
   "source": []
  },
  {
   "cell_type": "code",
   "execution_count": null,
   "metadata": {},
   "outputs": [],
   "source": []
  },
  {
   "cell_type": "code",
   "execution_count": null,
   "metadata": {},
   "outputs": [],
   "source": []
  },
  {
   "cell_type": "code",
   "execution_count": null,
   "metadata": {},
   "outputs": [],
   "source": []
  }
 ],
 "metadata": {
  "kernelspec": {
   "display_name": "Python 3",
   "language": "python",
   "name": "python3"
  },
  "language_info": {
   "codemirror_mode": {
    "name": "ipython",
    "version": 3
   },
   "file_extension": ".py",
   "mimetype": "text/x-python",
   "name": "python",
   "nbconvert_exporter": "python",
   "pygments_lexer": "ipython3",
   "version": "3.13.2"
  }
 },
 "nbformat": 4,
 "nbformat_minor": 2
}
